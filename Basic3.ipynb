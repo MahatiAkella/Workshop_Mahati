{
  "nbformat": 4,
  "nbformat_minor": 0,
  "metadata": {
    "colab": {
      "provenance": []
    },
    "kernelspec": {
      "name": "python3",
      "display_name": "Python 3"
    },
    "language_info": {
      "name": "python"
    }
  },
  "cells": [
    {
      "cell_type": "code",
      "execution_count": null,
      "metadata": {
        "colab": {
          "base_uri": "https://localhost:8080/"
        },
        "id": "qhVNHJEu0u7t",
        "outputId": "6d4a44d9-7bd9-48b5-a27d-cc9af876b4b6"
      },
      "outputs": [
        {
          "output_type": "stream",
          "name": "stdout",
          "text": [
            "cities with high temperature:\n",
            "City B - Temperature: 30°C\n",
            "City E - Temperature: 28°C\n",
            "\n",
            "Average Carbon Footprint: 420.00 kg\n",
            "City C - Carbon Footprint: 600 kg CO2\n"
          ]
        }
      ],
      "source": [
        "climate_data = [\n",
        "    {\"city\": \"City A\", \"temperature\": 25, \"carbon_footprint\": 500},\n",
        "    {\"city\": \"City B\", \"temperature\": 30, \"carbon_footprint\": 350},\n",
        "    {\"city\": \"City C\", \"temperature\": 22, \"carbon_footprint\": 600},\n",
        "    {\"city\": \"City D\", \"temperature\": 15, \"carbon_footprint\": 200},\n",
        "    {\"city\": \"City E\", \"temperature\": 28, \"carbon_footprint\": 450},\n",
        "]\n",
        "\n",
        "high_temp_threshold=26\n",
        "\n",
        "high_temp_cities=[city for city in climate_data if city[\"temperature\"]>high_temp_threshold]\n",
        "\n",
        "print(\"cities with high temperature:\")\n",
        "for city in high_temp_cities:\n",
        "    print(f\"{city['city']} - Temperature: {city['temperature']}°C\")\n",
        "\n",
        "average_footprint=sum(city[\"carbon_footprint\"] for city in climate_data)/len(climate_data)\n",
        "\n",
        "print(f\"\\nAverage Carbon Footprint: {average_footprint:.2f} kg\")\n",
        "\n",
        "highest_footprint_city=max(climate_data,key=lambda x:x[\"carbon_footprint\"])\n",
        "\n",
        "print(f\"{highest_footprint_city['city']} - Carbon Footprint: {highest_footprint_city['carbon_footprint']} kg CO2\")"
      ]
    },
    {
      "cell_type": "code",
      "source": [
        "energy_consumption=1000\n",
        "emmision_factor=0.475\n",
        "\n",
        "def calculate_carbon_footprint(energy_consumption,emmision_factor):\n",
        "    carbon_footprint=energy_consumption*emmision_factor\n",
        "    return carbon_footprint\n",
        "carbon_footprint=calculate_carbon_footprint(energy_consumption,emmision_factor)\n",
        "print(f\"Carbon Footprint: {carbon_footprint:.2f} kg CO2\")"
      ],
      "metadata": {
        "colab": {
          "base_uri": "https://localhost:8080/"
        },
        "id": "2w7lD4CT2_OS",
        "outputId": "66542269-ef98-4c05-9a85-61237f39f3f0"
      },
      "execution_count": null,
      "outputs": [
        {
          "output_type": "stream",
          "name": "stdout",
          "text": [
            "Carbon Footprint: 475.00 kg CO2\n"
          ]
        }
      ]
    },
    {
      "cell_type": "code",
      "source": [
        "# Example list of cities with their carbon footprints\n",
        "cities = [\n",
        "    {\"name\": \"CityA\", \"carbon_footprint\": 350},\n",
        "    {\"name\": \"CityB\", \"carbon_footprint\": 450},\n",
        "    {\"name\": \"CityC\", \"carbon_footprint\": 300},\n",
        "    {\"name\": \"CityD\", \"carbon_footprint\": 500}\n",
        "]\n",
        "\n",
        "# Define the sustainability threshold\n",
        "sustainability_threshold = 400\n",
        "\n",
        "# Filter cities based on carbon footprint\n",
        "sustainable_cities = list(filter(lambda city: city[\"carbon_footprint\"] < sustainability_threshold, cities))\n",
        "\n",
        "# Print sustainable cities\n",
        "print(\"Sustainable cities:\")\n",
        "for city in sustainable_cities:\n",
        "    print(city[\"name\"])\n"
      ],
      "metadata": {
        "colab": {
          "base_uri": "https://localhost:8080/"
        },
        "id": "323WIVaTTouS",
        "outputId": "495777b2-79f5-41d7-8820-06e61815c600"
      },
      "execution_count": null,
      "outputs": [
        {
          "output_type": "stream",
          "name": "stdout",
          "text": [
            "Sustainable cities:\n",
            "CityA\n",
            "CityC\n"
          ]
        }
      ]
    },
    {
      "cell_type": "code",
      "source": [
        "is_leap_year = lambda year: (year % 4 == 0 and year % 100 != 0) or (year % 400 == 0)\n",
        "\n",
        "# Test the lambda function\n",
        "year = int(input(\"Enter a year: \"))\n",
        "print(f\"{year} is a leap year: {is_leap_year(year)}\")\n"
      ],
      "metadata": {
        "id": "g6boThsyUbaj",
        "colab": {
          "base_uri": "https://localhost:8080/"
        },
        "outputId": "3784aeae-15ee-4fcb-c916-d4a7265bba41"
      },
      "execution_count": null,
      "outputs": [
        {
          "output_type": "stream",
          "name": "stdout",
          "text": [
            "Enter a year: 2024\n",
            "2024 is a leap year: True\n"
          ]
        }
      ]
    },
    {
      "cell_type": "code",
      "source": [],
      "metadata": {
        "id": "rV7URUBrQu3w"
      },
      "execution_count": null,
      "outputs": []
    }
  ]
}